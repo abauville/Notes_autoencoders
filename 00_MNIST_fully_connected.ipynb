{
 "cells": [
  {
   "cell_type": "markdown",
   "id": "0a39ae90-c295-4614-a7db-9b609513039d",
   "metadata": {},
   "source": [
    "# FC autoencoder for MNIST\n",
    "\n",
    "My first experiment with autoencoders: a small network with fully connected layers to autoencode the MNIST data"
   ]
  },
  {
   "cell_type": "markdown",
   "id": "00f9b770-e960-48c9-a547-94aa98ca6475",
   "metadata": {},
   "source": [
    "## Imports"
   ]
  },
  {
   "cell_type": "code",
   "execution_count": 1,
   "id": "bd3fdb92-b769-47dd-834c-ce52b42f4c9a",
   "metadata": {},
   "outputs": [],
   "source": [
    "from fastai.vision.all import *"
   ]
  },
  {
   "cell_type": "markdown",
   "id": "0b62ba81-9e5b-43ef-b7db-11cda016dfb5",
   "metadata": {},
   "source": [
    "## Load data"
   ]
  },
  {
   "cell_type": "code",
   "execution_count": 2,
   "id": "c4f342c5-d932-45be-9297-5a9b7fdc8d85",
   "metadata": {},
   "outputs": [],
   "source": [
    "path = untar_data(URLs.MNIST_TINY)"
   ]
  },
  {
   "cell_type": "code",
   "execution_count": 3,
   "id": "7eca29bb-fdd0-4d96-9801-44438ab6554a",
   "metadata": {},
   "outputs": [
    {
     "data": {
      "text/plain": [
       "Path('/Users/bauville/.fastai/data/mnist_tiny/training')"
      ]
     },
     "execution_count": 3,
     "metadata": {},
     "output_type": "execute_result"
    }
   ],
   "source": [
    "path/'training'"
   ]
  },
  {
   "cell_type": "code",
   "execution_count": 4,
   "id": "df7a85b3-bf59-466f-be71-2b9b94fe223b",
   "metadata": {},
   "outputs": [],
   "source": [
    "mean = 33.31\n",
    "std = 78.56748962402344\n",
    "\n",
    "def label_func(o):\n",
    "    img = image2tensor(Image.open(o))\n",
    "    # img -= mean\n",
    "    # img /= std\n",
    "    \n",
    "    tf = RandomCrop(28)\n",
    "    img = tf(img)\n",
    "    # img /= 255.0\n",
    "    img = img.view(1,784).float()\n",
    "    img /= 255.0\n",
    "    return img\n",
    "\n",
    "dblock = DataBlock(blocks=(ImageBlock(cls=PILImageBW), RegressionBlock),\n",
    "                   get_items=get_image_files, \n",
    "                   # splitter=GrandparentSplitter(train_name='training', valid_name='testing'),\n",
    "                   splitter=GrandparentSplitter(),\n",
    "                   # item_tfms=[Resize([1,784])],\n",
    "                   get_y=label_func,\n",
    "                   get_x=label_func)\n",
    "\n",
    "dls = dblock.dataloaders(path)\n"
   ]
  },
  {
   "cell_type": "code",
   "execution_count": 5,
   "id": "9e154fea-8d5a-48ca-b847-c0246f7aef67",
   "metadata": {},
   "outputs": [],
   "source": [
    "# dls.show_batch(max_n=9, figsize=(4,4))"
   ]
  },
  {
   "cell_type": "markdown",
   "id": "be1a9ae0-7a55-4a9d-ac38-b76ccb1c2457",
   "metadata": {},
   "source": [
    "## Create architecture"
   ]
  },
  {
   "cell_type": "code",
   "execution_count": 24,
   "id": "07029808-6a7b-4ead-9c53-201829f87965",
   "metadata": {},
   "outputs": [],
   "source": [
    "class AE(nn.Module):\n",
    "    def __init__(self):\n",
    "        super().__init__()\n",
    "\n",
    "        self.encoder = nn.Sequential(\n",
    "            nn.Linear(784,128),\n",
    "            nn.ReLU(),\n",
    "            nn.Linear(128, 64),\n",
    "            nn.ReLU(),\n",
    "            nn.Linear(64, 36),\n",
    "            nn.ReLU(),\n",
    "            nn.Linear(36, 18),\n",
    "            nn.ReLU(),\n",
    "            nn.Linear(18, 9),\n",
    "        )\n",
    "\n",
    "        self.decoder = nn.Sequential(\n",
    "            nn.Linear(9,18),\n",
    "            nn.ReLU(),\n",
    "            nn.Linear(18,36),\n",
    "            nn.ReLU(),\n",
    "            nn.Linear(36,64),\n",
    "            nn.ReLU(),\n",
    "            nn.Linear(64,128),\n",
    "            nn.ReLU(),\n",
    "            nn.Linear(128,784),\n",
    "            # nn.ReLU(),\n",
    "            torch.nn.Sigmoid()\n",
    "        )\n",
    "    def forward(self, x):\n",
    "        encoded = self.encoder(x)\n",
    "        decoded = self.decoder(encoded)\n",
    "        return decoded"
   ]
  },
  {
   "cell_type": "markdown",
   "id": "41fc3f9b-156b-479b-a6f5-f1d81806656e",
   "metadata": {},
   "source": [
    "# Create Learner"
   ]
  },
  {
   "cell_type": "code",
   "execution_count": 25,
   "id": "b2531032-b28f-415b-9eb2-63f5f12a6296",
   "metadata": {},
   "outputs": [],
   "source": [
    "learn = Learner(dls, AE(), loss_func=MSELossFlat())"
   ]
  },
  {
   "cell_type": "code",
   "execution_count": 26,
   "id": "d76c7618-d0dd-4f6a-b463-27001264db6f",
   "metadata": {},
   "outputs": [
    {
     "data": {
      "text/html": [
       "\n",
       "<style>\n",
       "    /* Turns off some styling */\n",
       "    progress {\n",
       "        /* gets rid of default border in Firefox and Opera. */\n",
       "        border: none;\n",
       "        /* Needs to be in here for Safari polyfill so background images work as expected. */\n",
       "        background-size: auto;\n",
       "    }\n",
       "    .progress-bar-interrupted, .progress-bar-interrupted::-webkit-progress-bar {\n",
       "        background: #F44336;\n",
       "    }\n",
       "</style>\n"
      ],
      "text/plain": [
       "<IPython.core.display.HTML object>"
      ]
     },
     "metadata": {},
     "output_type": "display_data"
    },
    {
     "data": {
      "text/html": [
       "<table border=\"1\" class=\"dataframe\">\n",
       "  <thead>\n",
       "    <tr style=\"text-align: left;\">\n",
       "      <th>epoch</th>\n",
       "      <th>train_loss</th>\n",
       "      <th>valid_loss</th>\n",
       "      <th>time</th>\n",
       "    </tr>\n",
       "  </thead>\n",
       "  <tbody>\n",
       "    <tr>\n",
       "      <td>0</td>\n",
       "      <td>0.218451</td>\n",
       "      <td>0.193446</td>\n",
       "      <td>00:00</td>\n",
       "    </tr>\n",
       "    <tr>\n",
       "      <td>1</td>\n",
       "      <td>0.176148</td>\n",
       "      <td>0.082390</td>\n",
       "      <td>00:00</td>\n",
       "    </tr>\n",
       "    <tr>\n",
       "      <td>2</td>\n",
       "      <td>0.131959</td>\n",
       "      <td>0.069218</td>\n",
       "      <td>00:00</td>\n",
       "    </tr>\n",
       "    <tr>\n",
       "      <td>3</td>\n",
       "      <td>0.109161</td>\n",
       "      <td>0.066199</td>\n",
       "      <td>00:00</td>\n",
       "    </tr>\n",
       "    <tr>\n",
       "      <td>4</td>\n",
       "      <td>0.095430</td>\n",
       "      <td>0.065090</td>\n",
       "      <td>00:00</td>\n",
       "    </tr>\n",
       "  </tbody>\n",
       "</table>"
      ],
      "text/plain": [
       "<IPython.core.display.HTML object>"
      ]
     },
     "metadata": {},
     "output_type": "display_data"
    }
   ],
   "source": [
    "# learn.lr_find()\n",
    "learn.fit(5, lr=0.002)"
   ]
  },
  {
   "cell_type": "code",
   "execution_count": null,
   "id": "463802d6-6f95-4a55-bde7-93eac5992cab",
   "metadata": {},
   "outputs": [],
   "source": []
  },
  {
   "cell_type": "code",
   "execution_count": 9,
   "id": "f9dfad41-c1c5-41d3-b549-8948215fca7a",
   "metadata": {},
   "outputs": [
    {
     "data": {
      "text/html": [
       "\n",
       "<style>\n",
       "    /* Turns off some styling */\n",
       "    progress {\n",
       "        /* gets rid of default border in Firefox and Opera. */\n",
       "        border: none;\n",
       "        /* Needs to be in here for Safari polyfill so background images work as expected. */\n",
       "        background-size: auto;\n",
       "    }\n",
       "    .progress-bar-interrupted, .progress-bar-interrupted::-webkit-progress-bar {\n",
       "        background: #F44336;\n",
       "    }\n",
       "</style>\n"
      ],
      "text/plain": [
       "<IPython.core.display.HTML object>"
      ]
     },
     "metadata": {},
     "output_type": "display_data"
    },
    {
     "data": {
      "text/html": [],
      "text/plain": [
       "<IPython.core.display.HTML object>"
      ]
     },
     "metadata": {},
     "output_type": "display_data"
    },
    {
     "data": {
      "image/png": "[encoded data removed]",
      "text/plain": [
       "<Figure size 576x216 with 12 Axes>"
      ]
     },
     "metadata": {
      "needs_background": "light"
     },
     "output_type": "display_data"
    }
   ],
   "source": [
    "import torchvision.transforms as T\n",
    "transform = T.ToPILImage()\n",
    "b = dls.one_batch()\n",
    "_,_,preds = learn.get_preds(dl=[b], with_decoded=True)\n",
    "n = 6\n",
    "fig, ax = plt.subplots(2,n, figsize= [8,3])\n",
    "for i in range(n):\n",
    "    # s = torch.randint(0,64,[]).item()\n",
    "    s = i\n",
    "    plt.axes(ax[0,i])\n",
    "    plt.imshow(transform(b[1][s,:].view(28,28)))\n",
    "    plt.axis('off')\n",
    "    plt.axes(ax[1,i])\n",
    "    plt.imshow(transform(preds[s,:].view(28,28)))\n",
    "    plt.axis('off')\n"
   ]
  },
  {
   "cell_type": "code",
   "execution_count": 10,
   "id": "d51480c5-977e-457a-a294-227819b553f8",
   "metadata": {},
   "outputs": [
    {
     "name": "stderr",
     "output_type": "stream",
     "text": [
      "/Users/bauville/opt/anaconda3/envs/torch-gpu/lib/python3.9/site-packages/torch/_tensor_str.py:103: UserWarning: The operator 'aten::bitwise_and.Tensor_out' is not currently supported on the MPS backend and will fall back to run on the CPU. This may have performance implications. (Triggered internally at /Users/runner/work/_temp/anaconda/conda-bld/pytorch_1658300888192/work/aten/src/ATen/mps/MPSFallback.mm:11.)\n",
      "  nonzero_finite_vals = torch.masked_select(tensor_view, torch.isfinite(tensor_view) & tensor_view.ne(0))\n"
     ]
    },
    {
     "data": {
      "text/plain": [
       "tensor([[[-0.3764,  0.2736, -0.1443, -0.3846,  0.2001, -0.5132, -0.0728,\n",
       "           0.0079,  0.0814]],\n",
       "\n",
       "        [[-0.3907,  0.2885, -0.1395, -0.3951,  0.1992, -0.5321, -0.0890,\n",
       "           0.0146,  0.0867]],\n",
       "\n",
       "        [[-0.3858,  0.2836, -0.1422, -0.3922,  0.2014, -0.5236, -0.0841,\n",
       "           0.0134,  0.0852]],\n",
       "\n",
       "        [[-0.3780,  0.2759, -0.1470, -0.3895,  0.1999, -0.5126, -0.0732,\n",
       "           0.0107,  0.0787]],\n",
       "\n",
       "        [[-0.3885,  0.2843, -0.1399, -0.3937,  0.1970, -0.5271, -0.0818,\n",
       "           0.0139,  0.0805]],\n",
       "\n",
       "        [[-0.3774,  0.2758, -0.1446, -0.3869,  0.1993, -0.5154, -0.0732,\n",
       "           0.0096,  0.0800]],\n",
       "\n",
       "        [[-0.3795,  0.2796, -0.1435, -0.3912,  0.2020, -0.5185, -0.0788,\n",
       "           0.0119,  0.0822]],\n",
       "\n",
       "        [[-0.3758,  0.2735, -0.1433, -0.3820,  0.1991, -0.5139, -0.0726,\n",
       "           0.0088,  0.0845]],\n",
       "\n",
       "        [[-0.3794,  0.2765, -0.1404, -0.3854,  0.1997, -0.5194, -0.0753,\n",
       "           0.0108,  0.0835]],\n",
       "\n",
       "        [[-0.3952,  0.2910, -0.1364, -0.3954,  0.1976, -0.5360, -0.0926,\n",
       "           0.0162,  0.0893]],\n",
       "\n",
       "        [[-0.3817,  0.2799, -0.1451, -0.3915,  0.2007, -0.5173, -0.0793,\n",
       "           0.0123,  0.0828]],\n",
       "\n",
       "        [[-0.3751,  0.2729, -0.1449, -0.3827,  0.1980, -0.5112, -0.0705,\n",
       "           0.0074,  0.0805]],\n",
       "\n",
       "        [[-0.3765,  0.2746, -0.1452, -0.3859,  0.2005, -0.5119, -0.0725,\n",
       "           0.0105,  0.0811]],\n",
       "\n",
       "        [[-0.3815,  0.2800, -0.1416, -0.3901,  0.2006, -0.5199, -0.0783,\n",
       "           0.0131,  0.0820]],\n",
       "\n",
       "        [[-0.3860,  0.2825, -0.1418, -0.3918,  0.1977, -0.5236, -0.0798,\n",
       "           0.0137,  0.0816]],\n",
       "\n",
       "        [[-0.3741,  0.2730, -0.1444, -0.3839,  0.2020, -0.5110, -0.0729,\n",
       "           0.0085,  0.0829]],\n",
       "\n",
       "        [[-0.3915,  0.2877, -0.1399, -0.3972,  0.1985, -0.5316, -0.0856,\n",
       "           0.0167,  0.0834]],\n",
       "\n",
       "        [[-0.3825,  0.2836, -0.1425, -0.3931,  0.2047, -0.5232, -0.0860,\n",
       "           0.0118,  0.0851]],\n",
       "\n",
       "        [[-0.3744,  0.2720, -0.1440, -0.3829,  0.1999, -0.5105, -0.0706,\n",
       "           0.0089,  0.0818]],\n",
       "\n",
       "        [[-0.3853,  0.2789, -0.1374, -0.3869,  0.1957, -0.5269, -0.0727,\n",
       "           0.0150,  0.0810]],\n",
       "\n",
       "        [[-0.3889,  0.2831, -0.1356, -0.3905,  0.1957, -0.5308, -0.0778,\n",
       "           0.0165,  0.0812]],\n",
       "\n",
       "        [[-0.3832,  0.2779, -0.1444, -0.3872,  0.1943, -0.5178, -0.0729,\n",
       "           0.0122,  0.0797]],\n",
       "\n",
       "        [[-0.3981,  0.2894, -0.1394, -0.3941,  0.1902, -0.5354, -0.0840,\n",
       "           0.0167,  0.0826]],\n",
       "\n",
       "        [[-0.3790,  0.2760, -0.1429, -0.3854,  0.2001, -0.5162, -0.0746,\n",
       "           0.0107,  0.0831]],\n",
       "\n",
       "        [[-0.3942,  0.2864, -0.1385, -0.3917,  0.1943, -0.5303, -0.0845,\n",
       "           0.0159,  0.0850]],\n",
       "\n",
       "        [[-0.3840,  0.2813, -0.1430, -0.3919,  0.1993, -0.5220, -0.0784,\n",
       "           0.0132,  0.0804]],\n",
       "\n",
       "        [[-0.3871,  0.2826, -0.1398, -0.3894,  0.1973, -0.5264, -0.0815,\n",
       "           0.0132,  0.0856]],\n",
       "\n",
       "        [[-0.3788,  0.2740, -0.1448, -0.3872,  0.1970, -0.5153, -0.0671,\n",
       "           0.0118,  0.0761]],\n",
       "\n",
       "        [[-0.3852,  0.2792, -0.1432, -0.3897,  0.1940, -0.5212, -0.0729,\n",
       "           0.0134,  0.0779]],\n",
       "\n",
       "        [[-0.3824,  0.2809, -0.1423, -0.3914,  0.2016, -0.5223, -0.0786,\n",
       "           0.0132,  0.0814]],\n",
       "\n",
       "        [[-0.3743,  0.2712, -0.1456, -0.3824,  0.1991, -0.5072, -0.0702,\n",
       "           0.0082,  0.0812]],\n",
       "\n",
       "        [[-0.3840,  0.2754, -0.1424, -0.3836,  0.1927, -0.5182, -0.0686,\n",
       "           0.0122,  0.0784]],\n",
       "\n",
       "        [[-0.3879,  0.2834, -0.1382, -0.3897,  0.1953, -0.5268, -0.0808,\n",
       "           0.0132,  0.0814]],\n",
       "\n",
       "        [[-0.3783,  0.2755, -0.1446, -0.3874,  0.1984, -0.5143, -0.0715,\n",
       "           0.0119,  0.0796]],\n",
       "\n",
       "        [[-0.3945,  0.2895, -0.1357, -0.3961,  0.1961, -0.5349, -0.0877,\n",
       "           0.0175,  0.0844]],\n",
       "\n",
       "        [[-0.3806,  0.2808, -0.1426, -0.3915,  0.2022, -0.5179, -0.0811,\n",
       "           0.0128,  0.0835]],\n",
       "\n",
       "        [[-0.3909,  0.2827, -0.1357, -0.3900,  0.1944, -0.5323, -0.0764,\n",
       "           0.0165,  0.0805]],\n",
       "\n",
       "        [[-0.3875,  0.2859, -0.1409, -0.3946,  0.2008, -0.5271, -0.0866,\n",
       "           0.0138,  0.0848]],\n",
       "\n",
       "        [[-0.3837,  0.2821, -0.1417, -0.3929,  0.1999, -0.5232, -0.0801,\n",
       "           0.0137,  0.0815]],\n",
       "\n",
       "        [[-0.3756,  0.2757, -0.1437, -0.3885,  0.2010, -0.5157, -0.0737,\n",
       "           0.0095,  0.0792]],\n",
       "\n",
       "        [[-0.3990,  0.2929, -0.1351, -0.3971,  0.1940, -0.5417, -0.0891,\n",
       "           0.0193,  0.0848]],\n",
       "\n",
       "        [[-0.3804,  0.2772, -0.1453, -0.3877,  0.1986, -0.5149, -0.0754,\n",
       "           0.0117,  0.0827]],\n",
       "\n",
       "        [[-0.3728,  0.2714, -0.1453, -0.3833,  0.2014, -0.5095, -0.0693,\n",
       "           0.0087,  0.0804]],\n",
       "\n",
       "        [[-0.3798,  0.2777, -0.1462, -0.3884,  0.1986, -0.5150, -0.0762,\n",
       "           0.0102,  0.0820]],\n",
       "\n",
       "        [[-0.3845,  0.2850, -0.1408, -0.3945,  0.2039, -0.5223, -0.0886,\n",
       "           0.0142,  0.0873]],\n",
       "\n",
       "        [[-0.3837,  0.2799, -0.1417, -0.3869,  0.1987, -0.5199, -0.0811,\n",
       "           0.0108,  0.0861]],\n",
       "\n",
       "        [[-0.3889,  0.2849, -0.1398, -0.3915,  0.1973, -0.5291, -0.0843,\n",
       "           0.0135,  0.0861]],\n",
       "\n",
       "        [[-0.3798,  0.2764, -0.1451, -0.3857,  0.1969, -0.5139, -0.0762,\n",
       "           0.0084,  0.0829]],\n",
       "\n",
       "        [[-0.3776,  0.2750, -0.1462, -0.3883,  0.1984, -0.5120, -0.0705,\n",
       "           0.0109,  0.0770]],\n",
       "\n",
       "        [[-0.3925,  0.2862, -0.1405, -0.3942,  0.1937, -0.5299, -0.0816,\n",
       "           0.0155,  0.0808]],\n",
       "\n",
       "        [[-0.3835,  0.2790, -0.1429, -0.3870,  0.1971, -0.5185, -0.0788,\n",
       "           0.0108,  0.0842]],\n",
       "\n",
       "        [[-0.3895,  0.2860, -0.1375, -0.3934,  0.1987, -0.5309, -0.0835,\n",
       "           0.0163,  0.0833]],\n",
       "\n",
       "        [[-0.3784,  0.2766, -0.1450, -0.3885,  0.1999, -0.5164, -0.0729,\n",
       "           0.0111,  0.0792]],\n",
       "\n",
       "        [[-0.3925,  0.2870, -0.1393, -0.3934,  0.1942, -0.5323, -0.0826,\n",
       "           0.0153,  0.0820]],\n",
       "\n",
       "        [[-0.3824,  0.2817, -0.1444, -0.3918,  0.2026, -0.5184, -0.0839,\n",
       "           0.0112,  0.0844]],\n",
       "\n",
       "        [[-0.3893,  0.2821, -0.1381, -0.3874,  0.1936, -0.5280, -0.0793,\n",
       "           0.0137,  0.0853]],\n",
       "\n",
       "        [[-0.3935,  0.2908, -0.1374, -0.3954,  0.1994, -0.5347, -0.0920,\n",
       "           0.0154,  0.0860]],\n",
       "\n",
       "        [[-0.3869,  0.2847, -0.1391, -0.3937,  0.2001, -0.5277, -0.0834,\n",
       "           0.0151,  0.0836]],\n",
       "\n",
       "        [[-0.3868,  0.2845, -0.1408, -0.3932,  0.1994, -0.5263, -0.0815,\n",
       "           0.0154,  0.0817]],\n",
       "\n",
       "        [[-0.3841,  0.2782, -0.1436, -0.3872,  0.1946, -0.5200, -0.0734,\n",
       "           0.0121,  0.0805]],\n",
       "\n",
       "        [[-0.3731,  0.2705, -0.1446, -0.3814,  0.1995, -0.5101, -0.0685,\n",
       "           0.0083,  0.0822]],\n",
       "\n",
       "        [[-0.3898,  0.2887, -0.1370, -0.3959,  0.2008, -0.5316, -0.0904,\n",
       "           0.0147,  0.0852]],\n",
       "\n",
       "        [[-0.3807,  0.2784, -0.1429, -0.3895,  0.1987, -0.5180, -0.0742,\n",
       "           0.0131,  0.0790]],\n",
       "\n",
       "        [[-0.3809,  0.2771, -0.1437, -0.3858,  0.1979, -0.5169, -0.0757,\n",
       "           0.0112,  0.0845]]], device='mps:0', grad_fn=<MpsLinearBackward0>)"
      ]
     },
     "execution_count": 10,
     "metadata": {},
     "output_type": "execute_result"
    }
   ],
   "source": [
    "learn.model.encoder(b[1])"
   ]
  },
  {
   "cell_type": "code",
   "execution_count": null,
   "id": "70ca8fc6-c9d6-448d-afcc-e040bdc92983",
   "metadata": {},
   "outputs": [],
   "source": []
  },
  {
   "cell_type": "code",
   "execution_count": null,
   "id": "3997f258-f6ee-495b-9d5e-26198b11d6da",
   "metadata": {},
   "outputs": [],
   "source": []
  }
 ],
 "metadata": {
  "kernelspec": {
   "display_name": "Python 3 (ipykernel)",
   "language": "python",
   "name": "python3"
  },
  "language_info": {
   "codemirror_mode": {
    "name": "ipython",
    "version": 3
   },
   "file_extension": ".py",
   "mimetype": "text/x-python",
   "name": "python",
   "nbconvert_exporter": "python",
   "pygments_lexer": "ipython3",
   "version": "3.9.12"
  }
 },
 "nbformat": 4,
 "nbformat_minor": 5
}
