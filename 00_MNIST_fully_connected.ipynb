{
 "cells": [
  {
   "cell_type": "markdown",
   "id": "0a39ae90-c295-4614-a7db-9b609513039d",
   "metadata": {},
   "source": [
    "# FC autoencoder for MNIST\n",
    "\n",
    "My first experiment with autoencoders: a small network with fully connected layers to autoencode the MNIST data"
   ]
  },
  {
   "cell_type": "markdown",
   "id": "00f9b770-e960-48c9-a547-94aa98ca6475",
   "metadata": {},
   "source": [
    "## Imports"
   ]
  },
  {
   "cell_type": "code",
   "execution_count": 1,
   "id": "bd3fdb92-b769-47dd-834c-ce52b42f4c9a",
   "metadata": {},
   "outputs": [],
   "source": [
    "from fastai.vision.all import *"
   ]
  },
  {
   "cell_type": "markdown",
   "id": "0b62ba81-9e5b-43ef-b7db-11cda016dfb5",
   "metadata": {},
   "source": [
    "## Load data"
   ]
  },
  {
   "cell_type": "code",
   "execution_count": 2,
   "id": "c4f342c5-d932-45be-9297-5a9b7fdc8d85",
   "metadata": {},
   "outputs": [],
   "source": [
    "path = untar_data(URLs.MNIST_TINY)"
   ]
  },
  {
   "cell_type": "code",
   "execution_count": 3,
   "id": "7eca29bb-fdd0-4d96-9801-44438ab6554a",
   "metadata": {},
   "outputs": [
    {
     "data": {
      "text/plain": [
       "Path('/Users/bauville/.fastai/data/mnist_tiny/training')"
      ]
     },
     "execution_count": 3,
     "metadata": {},
     "output_type": "execute_result"
    }
   ],
   "source": [
    "path/'training'"
   ]
  },
  {
   "cell_type": "code",
   "execution_count": 4,
   "id": "df7a85b3-bf59-466f-be71-2b9b94fe223b",
   "metadata": {},
   "outputs": [],
   "source": [
    "def label_func(o):\n",
    "    img = image2tensor(Image.open(o))\n",
    "    tf = RandomCrop(28)\n",
    "    img = tf(img)\n",
    "    img = img.view(1,784).float()\n",
    "    img /= 255.0\n",
    "    return img\n",
    "\n",
    "dblock = DataBlock(blocks=(ImageBlock(cls=PILImageBW), RegressionBlock),\n",
    "                   get_items=get_image_files, \n",
    "                   splitter=GrandparentSplitter(),\n",
    "                   get_y=label_func,\n",
    "                   get_x=label_func)\n",
    "\n",
    "dls = dblock.dataloaders(path)"
   ]
  },
  {
   "cell_type": "markdown",
   "id": "be1a9ae0-7a55-4a9d-ac38-b76ccb1c2457",
   "metadata": {},
   "source": [
    "## Create architecture"
   ]
  },
  {
   "cell_type": "code",
   "execution_count": 5,
   "id": "07029808-6a7b-4ead-9c53-201829f87965",
   "metadata": {},
   "outputs": [],
   "source": [
    "class AE(nn.Module):\n",
    "    def __init__(self):\n",
    "        super().__init__()\n",
    "\n",
    "        self.encoder = nn.Sequential(\n",
    "            nn.Linear(784,128),\n",
    "            nn.ReLU(),\n",
    "            nn.Linear(128, 64),\n",
    "            nn.ReLU(),\n",
    "            nn.Linear(64, 36),\n",
    "            nn.ReLU(),\n",
    "            nn.Linear(36, 18),\n",
    "            nn.ReLU(),\n",
    "            nn.Linear(18, 9),\n",
    "        )\n",
    "\n",
    "        self.decoder = nn.Sequential(\n",
    "            nn.Linear(9,18),\n",
    "            nn.ReLU(),\n",
    "            # nn.Dropout2d(0.5),\n",
    "            nn.Linear(18,36),\n",
    "            nn.ReLU(),\n",
    "            # nn.Dropout2d(0.5),\n",
    "            nn.Linear(36,64),\n",
    "            nn.ReLU(),\n",
    "            # nn.Dropout2d(0.5),\n",
    "            nn.Linear(64,128),\n",
    "            nn.ReLU(),\n",
    "            # nn.Dropout2d(0.5),\n",
    "            nn.Linear(128,784),\n",
    "            # nn.Dropout2d(0.5),\n",
    "            torch.nn.Sigmoid()\n",
    "        )\n",
    "    def forward(self, x):\n",
    "        encoded = self.encoder(x)\n",
    "        decoded = self.decoder(encoded)\n",
    "        return decoded"
   ]
  },
  {
   "cell_type": "markdown",
   "id": "41fc3f9b-156b-479b-a6f5-f1d81806656e",
   "metadata": {},
   "source": [
    "# Create Learner"
   ]
  },
  {
   "cell_type": "code",
   "execution_count": 6,
   "id": "b2531032-b28f-415b-9eb2-63f5f12a6296",
   "metadata": {},
   "outputs": [],
   "source": [
    "learn = Learner(dls, AE(), loss_func=MSELossFlat())"
   ]
  },
  {
   "cell_type": "code",
   "execution_count": 7,
   "id": "d76c7618-d0dd-4f6a-b463-27001264db6f",
   "metadata": {},
   "outputs": [
    {
     "data": {
      "text/html": [
       "\n",
       "<style>\n",
       "    /* Turns off some styling */\n",
       "    progress {\n",
       "        /* gets rid of default border in Firefox and Opera. */\n",
       "        border: none;\n",
       "        /* Needs to be in here for Safari polyfill so background images work as expected. */\n",
       "        background-size: auto;\n",
       "    }\n",
       "    .progress-bar-interrupted, .progress-bar-interrupted::-webkit-progress-bar {\n",
       "        background: #F44336;\n",
       "    }\n",
       "</style>\n"
      ],
      "text/plain": [
       "<IPython.core.display.HTML object>"
      ]
     },
     "metadata": {},
     "output_type": "display_data"
    },
    {
     "data": {
      "text/html": [
       "<table border=\"1\" class=\"dataframe\">\n",
       "  <thead>\n",
       "    <tr style=\"text-align: left;\">\n",
       "      <th>epoch</th>\n",
       "      <th>train_loss</th>\n",
       "      <th>valid_loss</th>\n",
       "      <th>time</th>\n",
       "    </tr>\n",
       "  </thead>\n",
       "  <tbody>\n",
       "    <tr>\n",
       "      <td>0</td>\n",
       "      <td>0.219541</td>\n",
       "      <td>0.198818</td>\n",
       "      <td>00:02</td>\n",
       "    </tr>\n",
       "    <tr>\n",
       "      <td>1</td>\n",
       "      <td>0.186007</td>\n",
       "      <td>0.106284</td>\n",
       "      <td>00:00</td>\n",
       "    </tr>\n",
       "    <tr>\n",
       "      <td>2</td>\n",
       "      <td>0.140890</td>\n",
       "      <td>0.068361</td>\n",
       "      <td>00:00</td>\n",
       "    </tr>\n",
       "    <tr>\n",
       "      <td>3</td>\n",
       "      <td>0.114860</td>\n",
       "      <td>0.066078</td>\n",
       "      <td>00:00</td>\n",
       "    </tr>\n",
       "    <tr>\n",
       "      <td>4</td>\n",
       "      <td>0.099329</td>\n",
       "      <td>0.064718</td>\n",
       "      <td>00:00</td>\n",
       "    </tr>\n",
       "    <tr>\n",
       "      <td>5</td>\n",
       "      <td>0.089151</td>\n",
       "      <td>0.063769</td>\n",
       "      <td>00:00</td>\n",
       "    </tr>\n",
       "    <tr>\n",
       "      <td>6</td>\n",
       "      <td>0.082110</td>\n",
       "      <td>0.063581</td>\n",
       "      <td>00:00</td>\n",
       "    </tr>\n",
       "    <tr>\n",
       "      <td>7</td>\n",
       "      <td>0.077042</td>\n",
       "      <td>0.063320</td>\n",
       "      <td>00:00</td>\n",
       "    </tr>\n",
       "    <tr>\n",
       "      <td>8</td>\n",
       "      <td>0.073309</td>\n",
       "      <td>0.063156</td>\n",
       "      <td>00:00</td>\n",
       "    </tr>\n",
       "    <tr>\n",
       "      <td>9</td>\n",
       "      <td>0.070510</td>\n",
       "      <td>0.063098</td>\n",
       "      <td>00:00</td>\n",
       "    </tr>\n",
       "    <tr>\n",
       "      <td>10</td>\n",
       "      <td>0.068405</td>\n",
       "      <td>0.063204</td>\n",
       "      <td>00:00</td>\n",
       "    </tr>\n",
       "    <tr>\n",
       "      <td>11</td>\n",
       "      <td>0.066792</td>\n",
       "      <td>0.062896</td>\n",
       "      <td>00:00</td>\n",
       "    </tr>\n",
       "    <tr>\n",
       "      <td>12</td>\n",
       "      <td>0.065496</td>\n",
       "      <td>0.063155</td>\n",
       "      <td>00:00</td>\n",
       "    </tr>\n",
       "    <tr>\n",
       "      <td>13</td>\n",
       "      <td>0.064480</td>\n",
       "      <td>0.063054</td>\n",
       "      <td>00:00</td>\n",
       "    </tr>\n",
       "    <tr>\n",
       "      <td>14</td>\n",
       "      <td>0.063687</td>\n",
       "      <td>0.062941</td>\n",
       "      <td>00:00</td>\n",
       "    </tr>\n",
       "    <tr>\n",
       "      <td>15</td>\n",
       "      <td>0.063061</td>\n",
       "      <td>0.063055</td>\n",
       "      <td>00:00</td>\n",
       "    </tr>\n",
       "    <tr>\n",
       "      <td>16</td>\n",
       "      <td>0.062564</td>\n",
       "      <td>0.062937</td>\n",
       "      <td>00:00</td>\n",
       "    </tr>\n",
       "    <tr>\n",
       "      <td>17</td>\n",
       "      <td>0.062197</td>\n",
       "      <td>0.063066</td>\n",
       "      <td>00:00</td>\n",
       "    </tr>\n",
       "    <tr>\n",
       "      <td>18</td>\n",
       "      <td>0.061888</td>\n",
       "      <td>0.063017</td>\n",
       "      <td>00:00</td>\n",
       "    </tr>\n",
       "    <tr>\n",
       "      <td>19</td>\n",
       "      <td>0.061634</td>\n",
       "      <td>0.063089</td>\n",
       "      <td>00:00</td>\n",
       "    </tr>\n",
       "  </tbody>\n",
       "</table>"
      ],
      "text/plain": [
       "<IPython.core.display.HTML object>"
      ]
     },
     "metadata": {},
     "output_type": "display_data"
    }
   ],
   "source": [
    "# learn.lr_find()\n",
    "learn.fit(20, lr=0.002)"
   ]
  },
  {
   "cell_type": "code",
   "execution_count": 8,
   "id": "9440eb26-1a48-4037-99ad-189047b1e97a",
   "metadata": {},
   "outputs": [
    {
     "data": {
      "image/png": "[encoded data removed]",
      "text/plain": [
       "<Figure size 432x288 with 1 Axes>"
      ]
     },
     "metadata": {
      "needs_background": "light"
     },
     "output_type": "display_data"
    }
   ],
   "source": [
    "learn.recorder.plot_loss()"
   ]
  },
  {
   "cell_type": "code",
   "execution_count": 9,
   "id": "f9dfad41-c1c5-41d3-b549-8948215fca7a",
   "metadata": {},
   "outputs": [
    {
     "data": {
      "text/html": [
       "\n",
       "<style>\n",
       "    /* Turns off some styling */\n",
       "    progress {\n",
       "        /* gets rid of default border in Firefox and Opera. */\n",
       "        border: none;\n",
       "        /* Needs to be in here for Safari polyfill so background images work as expected. */\n",
       "        background-size: auto;\n",
       "    }\n",
       "    .progress-bar-interrupted, .progress-bar-interrupted::-webkit-progress-bar {\n",
       "        background: #F44336;\n",
       "    }\n",
       "</style>\n"
      ],
      "text/plain": [
       "<IPython.core.display.HTML object>"
      ]
     },
     "metadata": {},
     "output_type": "display_data"
    },
    {
     "data": {
      "text/html": [],
      "text/plain": [
       "<IPython.core.display.HTML object>"
      ]
     },
     "metadata": {},
     "output_type": "display_data"
    },
    {
     "data": {
      "text/plain": [
       "Text(0.5, 1.0, 'Predictions')"
      ]
     },
     "execution_count": 9,
     "metadata": {},
     "output_type": "execute_result"
    },
    {
     "data": {
      "image/png": "[encoded data removed]",
      "text/plain": [
       "<Figure size 576x216 with 12 Axes>"
      ]
     },
     "metadata": {
      "needs_background": "light"
     },
     "output_type": "display_data"
    }
   ],
   "source": [
    "import torchvision.transforms as T\n",
    "b = dls.one_batch()\n",
    "_,_,preds = learn.get_preds(dl=[b], with_decoded=True)\n",
    "n = 6\n",
    "fig, ax = plt.subplots(2,n, figsize= [8,3])\n",
    "for i in range(n):\n",
    "    s = i\n",
    "    plt.axes(ax[0,i])\n",
    "    plt.imshow(b[1][s,:].view(28,28).cpu())\n",
    "    plt.axis('off')\n",
    "    plt.axes(ax[1,i])\n",
    "    plt.imshow(preds[s,:].view(28,28).cpu())\n",
    "    plt.axis('off')\n",
    "\n",
    "plt.axes(ax[0,0])\n",
    "plt.title(\"Ground truths\")\n",
    "\n",
    "plt.axes(ax[1,0])\n",
    "plt.title(\"Predictions\")"
   ]
  }
 ],
 "metadata": {
  "kernelspec": {
   "display_name": "Python 3 (ipykernel)",
   "language": "python",
   "name": "python3"
  },
  "language_info": {
   "codemirror_mode": {
    "name": "ipython",
    "version": 3
   },
   "file_extension": ".py",
   "mimetype": "text/x-python",
   "name": "python",
   "nbconvert_exporter": "python",
   "pygments_lexer": "ipython3",
   "version": "3.9.12"
  }
 },
 "nbformat": 4,
 "nbformat_minor": 5
}
