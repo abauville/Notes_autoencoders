{
 "cells": [
  {
   "cell_type": "markdown",
   "id": "0a39ae90-c295-4614-a7db-9b609513039d",
   "metadata": {},
   "source": [
    "# FC autoencoder for MNIST\n",
    "\n",
    "My first experiment with autoencoders: a small network with fully connected layers to autoencode the MNIST data"
   ]
  },
  {
   "cell_type": "markdown",
   "id": "00f9b770-e960-48c9-a547-94aa98ca6475",
   "metadata": {},
   "source": [
    "## Imports"
   ]
  },
  {
   "cell_type": "code",
   "execution_count": 1,
   "id": "bd3fdb92-b769-47dd-834c-ce52b42f4c9a",
   "metadata": {},
   "outputs": [],
   "source": [
    "from fastai.vision.all import *"
   ]
  },
  {
   "cell_type": "markdown",
   "id": "0b62ba81-9e5b-43ef-b7db-11cda016dfb5",
   "metadata": {},
   "source": [
    "## Load data"
   ]
  },
  {
   "cell_type": "code",
   "execution_count": 15,
   "id": "c4f342c5-d932-45be-9297-5a9b7fdc8d85",
   "metadata": {},
   "outputs": [],
   "source": [
    "path = untar_data(URLs.MNIST_TINY)"
   ]
  },
  {
   "cell_type": "code",
   "execution_count": 16,
   "id": "7eca29bb-fdd0-4d96-9801-44438ab6554a",
   "metadata": {},
   "outputs": [
    {
     "data": {
      "text/plain": [
       "Path('/Users/bauville/.fastai/data/mnist_tiny/training')"
      ]
     },
     "execution_count": 16,
     "metadata": {},
     "output_type": "execute_result"
    }
   ],
   "source": [
    "path/'training'"
   ]
  },
  {
   "cell_type": "code",
   "execution_count": 21,
   "id": "df7a85b3-bf59-466f-be71-2b9b94fe223b",
   "metadata": {},
   "outputs": [],
   "source": [
    "mean = 33.31\n",
    "std = 78.56748962402344\n",
    "\n",
    "def label_func(o):\n",
    "    img = image2tensor(Image.open(o)).view(1,784).float()\n",
    "    # print(img.dtype)\n",
    "    # img -= mean\n",
    "    # img /= std\n",
    "    img /= 255.0\n",
    "    return img\n",
    "\n",
    "dblock = DataBlock(blocks=(ImageBlock(cls=PILImageBW), RegressionBlock),\n",
    "                   get_items=get_image_files, \n",
    "                   # splitter=GrandparentSplitter(train_name='training', valid_name='testing'),\n",
    "                   splitter=GrandparentSplitter(),\n",
    "                   item_tfms=[Resize([1,784])],\n",
    "                   get_y=label_func)\n",
    "\n",
    "dls = dblock.dataloaders(path)\n"
   ]
  },
  {
   "cell_type": "code",
   "execution_count": 22,
   "id": "9e154fea-8d5a-48ca-b847-c0246f7aef67",
   "metadata": {},
   "outputs": [],
   "source": [
    "# dls.show_batch(max_n=9, figsize=(4,4))"
   ]
  },
  {
   "cell_type": "markdown",
   "id": "be1a9ae0-7a55-4a9d-ac38-b76ccb1c2457",
   "metadata": {},
   "source": [
    "## Create architecture"
   ]
  },
  {
   "cell_type": "code",
   "execution_count": 23,
   "id": "07029808-6a7b-4ead-9c53-201829f87965",
   "metadata": {},
   "outputs": [],
   "source": [
    "class AE(nn.Module):\n",
    "    def __init__(self):\n",
    "        super().__init__()\n",
    "\n",
    "        self.encoder = nn.Sequential(\n",
    "            nn.Linear(784,128),\n",
    "            nn.ReLU(),\n",
    "            nn.Linear(128, 64),\n",
    "            nn.ReLU(),\n",
    "            nn.Linear(64, 36),\n",
    "            nn.ReLU(),\n",
    "            nn.Linear(36, 18),\n",
    "            nn.ReLU(),\n",
    "            nn.Linear(18, 9),\n",
    "        )\n",
    "\n",
    "        self.decoder = nn.Sequential(\n",
    "            nn.Linear(9,18),\n",
    "            nn.ReLU(),\n",
    "            nn.Linear(18,36),\n",
    "            nn.ReLU(),\n",
    "            nn.Linear(36,64),\n",
    "            nn.ReLU(),\n",
    "            nn.Linear(64,128),\n",
    "            nn.ReLU(),\n",
    "            nn.Linear(128,784),\n",
    "            # nn.ReLU(),\n",
    "            torch.nn.Sigmoid()\n",
    "        )\n",
    "    def forward(self, x):\n",
    "        # x -= mean\n",
    "        # x /= std\n",
    "        x /= 255\n",
    "        # print(x.shape)\n",
    "        # return 0\n",
    "        encoded = self.encoder(x)\n",
    "        decoded = self.decoder(encoded)\n",
    "        return decoded"
   ]
  },
  {
   "cell_type": "markdown",
   "id": "41fc3f9b-156b-479b-a6f5-f1d81806656e",
   "metadata": {},
   "source": [
    "# Create Learner"
   ]
  },
  {
   "cell_type": "code",
   "execution_count": 24,
   "id": "b2531032-b28f-415b-9eb2-63f5f12a6296",
   "metadata": {},
   "outputs": [],
   "source": [
    "learn = Learner(dls, AE(), loss_func=MSELossFlat())"
   ]
  },
  {
   "cell_type": "code",
   "execution_count": 29,
   "id": "d76c7618-d0dd-4f6a-b463-27001264db6f",
   "metadata": {},
   "outputs": [
    {
     "data": {
      "text/html": [
       "\n",
       "<style>\n",
       "    /* Turns off some styling */\n",
       "    progress {\n",
       "        /* gets rid of default border in Firefox and Opera. */\n",
       "        border: none;\n",
       "        /* Needs to be in here for Safari polyfill so background images work as expected. */\n",
       "        background-size: auto;\n",
       "    }\n",
       "    .progress-bar-interrupted, .progress-bar-interrupted::-webkit-progress-bar {\n",
       "        background: #F44336;\n",
       "    }\n",
       "</style>\n"
      ],
      "text/plain": [
       "<IPython.core.display.HTML object>"
      ]
     },
     "metadata": {},
     "output_type": "display_data"
    },
    {
     "data": {
      "text/html": [
       "<table border=\"1\" class=\"dataframe\">\n",
       "  <thead>\n",
       "    <tr style=\"text-align: left;\">\n",
       "      <th>epoch</th>\n",
       "      <th>train_loss</th>\n",
       "      <th>valid_loss</th>\n",
       "      <th>time</th>\n",
       "    </tr>\n",
       "  </thead>\n",
       "  <tbody>\n",
       "    <tr>\n",
       "      <td>0</td>\n",
       "      <td>0.061680</td>\n",
       "      <td>0.064087</td>\n",
       "      <td>00:00</td>\n",
       "    </tr>\n",
       "    <tr>\n",
       "      <td>1</td>\n",
       "      <td>0.061494</td>\n",
       "      <td>0.063511</td>\n",
       "      <td>00:00</td>\n",
       "    </tr>\n",
       "    <tr>\n",
       "      <td>2</td>\n",
       "      <td>0.061261</td>\n",
       "      <td>0.063184</td>\n",
       "      <td>00:00</td>\n",
       "    </tr>\n",
       "    <tr>\n",
       "      <td>3</td>\n",
       "      <td>0.061122</td>\n",
       "      <td>0.063221</td>\n",
       "      <td>00:00</td>\n",
       "    </tr>\n",
       "    <tr>\n",
       "      <td>4</td>\n",
       "      <td>0.061022</td>\n",
       "      <td>0.063113</td>\n",
       "      <td>00:00</td>\n",
       "    </tr>\n",
       "  </tbody>\n",
       "</table>"
      ],
      "text/plain": [
       "<IPython.core.display.HTML object>"
      ]
     },
     "metadata": {},
     "output_type": "display_data"
    }
   ],
   "source": [
    "# learn.lr_find()\n",
    "learn.fit(5, lr=0.002)"
   ]
  },
  {
   "cell_type": "code",
   "execution_count": null,
   "id": "463802d6-6f95-4a55-bde7-93eac5992cab",
   "metadata": {},
   "outputs": [],
   "source": []
  },
  {
   "cell_type": "code",
   "execution_count": 26,
   "id": "f9dfad41-c1c5-41d3-b549-8948215fca7a",
   "metadata": {},
   "outputs": [
    {
     "data": {
      "text/html": [
       "\n",
       "<style>\n",
       "    /* Turns off some styling */\n",
       "    progress {\n",
       "        /* gets rid of default border in Firefox and Opera. */\n",
       "        border: none;\n",
       "        /* Needs to be in here for Safari polyfill so background images work as expected. */\n",
       "        background-size: auto;\n",
       "    }\n",
       "    .progress-bar-interrupted, .progress-bar-interrupted::-webkit-progress-bar {\n",
       "        background: #F44336;\n",
       "    }\n",
       "</style>\n"
      ],
      "text/plain": [
       "<IPython.core.display.HTML object>"
      ]
     },
     "metadata": {},
     "output_type": "display_data"
    },
    {
     "data": {
      "text/html": [],
      "text/plain": [
       "<IPython.core.display.HTML object>"
      ]
     },
     "metadata": {},
     "output_type": "display_data"
    },
    {
     "data": {
      "image/png": "[encoded data removed]",
      "text/plain": [
       "<Figure size 576x216 with 12 Axes>"
      ]
     },
     "metadata": {
      "needs_background": "light"
     },
     "output_type": "display_data"
    }
   ],
   "source": [
    "import torchvision.transforms as T\n",
    "transform = T.ToPILImage()\n",
    "b = dls.one_batch()\n",
    "_,_,preds = learn.get_preds(dl=[b], with_decoded=True)\n",
    "n = 6\n",
    "fig, ax = plt.subplots(2,n, figsize= [8,3])\n",
    "for i in range(n):\n",
    "    # s = torch.randint(0,64,[]).item()\n",
    "    s = i\n",
    "    plt.axes(ax[0,i])\n",
    "    plt.imshow(transform(b[1][s,:].view(28,28)))\n",
    "    plt.axis('off')\n",
    "    plt.axes(ax[1,i])\n",
    "    plt.imshow(transform(preds[s,:].view(28,28)))\n",
    "    plt.axis('off')\n"
   ]
  },
  {
   "cell_type": "code",
   "execution_count": 27,
   "id": "d51480c5-977e-457a-a294-227819b553f8",
   "metadata": {},
   "outputs": [
    {
     "name": "stderr",
     "output_type": "stream",
     "text": [
      "/Users/bauville/opt/anaconda3/envs/torch-gpu/lib/python3.9/site-packages/torch/_tensor_str.py:103: UserWarning: The operator 'aten::bitwise_and.Tensor_out' is not currently supported on the MPS backend and will fall back to run on the CPU. This may have performance implications. (Triggered internally at /Users/runner/work/_temp/anaconda/conda-bld/pytorch_1658300888192/work/aten/src/ATen/mps/MPSFallback.mm:11.)\n",
      "  nonzero_finite_vals = torch.masked_select(tensor_view, torch.isfinite(tensor_view) & tensor_view.ne(0))\n"
     ]
    },
    {
     "data": {
      "text/plain": [
       "tensor([[[ 0.0799, -0.0658,  0.3649,  0.3005,  0.1797, -0.4379, -0.0329,\n",
       "          -0.2313,  0.3240]],\n",
       "\n",
       "        [[ 0.0810, -0.0631,  0.3851,  0.3256,  0.2076, -0.4625, -0.0550,\n",
       "          -0.2288,  0.3340]],\n",
       "\n",
       "        [[ 0.0825, -0.0619,  0.3774,  0.3187,  0.1993, -0.4592, -0.0495,\n",
       "          -0.2308,  0.3338]],\n",
       "\n",
       "        [[ 0.0802, -0.0640,  0.3768,  0.3211,  0.2020, -0.4605, -0.0501,\n",
       "          -0.2276,  0.3342]],\n",
       "\n",
       "        [[ 0.0811, -0.0636,  0.3758,  0.3151,  0.1941, -0.4534, -0.0450,\n",
       "          -0.2302,  0.3315]],\n",
       "\n",
       "        [[ 0.0682, -0.0603,  0.3912,  0.3384,  0.2034, -0.4695, -0.0594,\n",
       "          -0.2312,  0.3440]],\n",
       "\n",
       "        [[ 0.0746, -0.0617,  0.3814,  0.3255,  0.1981, -0.4593, -0.0525,\n",
       "          -0.2312,  0.3351]],\n",
       "\n",
       "        [[ 0.0813, -0.0643,  0.3765,  0.3164,  0.1984, -0.4554, -0.0468,\n",
       "          -0.2289,  0.3315]],\n",
       "\n",
       "        [[ 0.0750, -0.0618,  0.3710,  0.3105,  0.1843, -0.4476, -0.0408,\n",
       "          -0.2343,  0.3312]],\n",
       "\n",
       "        [[ 0.0798, -0.0642,  0.3768,  0.3207,  0.2017, -0.4592, -0.0500,\n",
       "          -0.2276,  0.3332]],\n",
       "\n",
       "        [[ 0.0676, -0.0626,  0.3870,  0.3282,  0.2028, -0.4596, -0.0547,\n",
       "          -0.2313,  0.3363]],\n",
       "\n",
       "        [[ 0.0766, -0.0612,  0.3816,  0.3251,  0.1971, -0.4596, -0.0519,\n",
       "          -0.2316,  0.3356]],\n",
       "\n",
       "        [[ 0.0813, -0.0653,  0.3751,  0.3176,  0.2011, -0.4573, -0.0477,\n",
       "          -0.2268,  0.3318]],\n",
       "\n",
       "        [[ 0.0784, -0.0645,  0.3737,  0.3117,  0.1880, -0.4469, -0.0413,\n",
       "          -0.2308,  0.3286]],\n",
       "\n",
       "        [[ 0.0829, -0.0632,  0.3770,  0.3194,  0.1989, -0.4585, -0.0489,\n",
       "          -0.2290,  0.3330]],\n",
       "\n",
       "        [[ 0.0847, -0.0648,  0.3711,  0.3079,  0.1928, -0.4493, -0.0409,\n",
       "          -0.2297,  0.3282]],\n",
       "\n",
       "        [[ 0.0692, -0.0599,  0.3875,  0.3280,  0.1978, -0.4574, -0.0550,\n",
       "          -0.2349,  0.3350]],\n",
       "\n",
       "        [[ 0.0790, -0.0614,  0.3746,  0.3151,  0.1913, -0.4540, -0.0452,\n",
       "          -0.2330,  0.3333]],\n",
       "\n",
       "        [[ 0.0816, -0.0625,  0.3726,  0.3133,  0.1927, -0.4531, -0.0447,\n",
       "          -0.2314,  0.3311]],\n",
       "\n",
       "        [[ 0.0841, -0.0648,  0.3621,  0.2925,  0.1761, -0.4312, -0.0297,\n",
       "          -0.2342,  0.3187]],\n",
       "\n",
       "        [[ 0.0720, -0.0608,  0.3776,  0.3159,  0.1881, -0.4487, -0.0457,\n",
       "          -0.2357,  0.3310]],\n",
       "\n",
       "        [[ 0.0791, -0.0624,  0.3807,  0.3203,  0.1992, -0.4571, -0.0501,\n",
       "          -0.2311,  0.3329]],\n",
       "\n",
       "        [[ 0.0741, -0.0619,  0.3764,  0.3193,  0.1925, -0.4550, -0.0474,\n",
       "          -0.2322,  0.3341]],\n",
       "\n",
       "        [[ 0.0744, -0.0608,  0.3914,  0.3397,  0.2074, -0.4716, -0.0614,\n",
       "          -0.2291,  0.3422]],\n",
       "\n",
       "        [[ 0.0805, -0.0642,  0.3764,  0.3197,  0.1982, -0.4569, -0.0483,\n",
       "          -0.2280,  0.3321]],\n",
       "\n",
       "        [[ 0.0786, -0.0654,  0.3762,  0.3159,  0.1959, -0.4524, -0.0452,\n",
       "          -0.2284,  0.3305]],\n",
       "\n",
       "        [[ 0.0828, -0.0640,  0.3711,  0.3075,  0.1867, -0.4461, -0.0391,\n",
       "          -0.2315,  0.3279]],\n",
       "\n",
       "        [[ 0.0841, -0.0628,  0.3790,  0.3212,  0.2015, -0.4614, -0.0505,\n",
       "          -0.2288,  0.3346]],\n",
       "\n",
       "        [[ 0.0808, -0.0638,  0.3710,  0.3111,  0.1905, -0.4504, -0.0420,\n",
       "          -0.2305,  0.3301]],\n",
       "\n",
       "        [[ 0.0769, -0.0638,  0.3720,  0.3136,  0.1919, -0.4500, -0.0443,\n",
       "          -0.2306,  0.3292]],\n",
       "\n",
       "        [[ 0.0744, -0.0634,  0.3827,  0.3245,  0.1960, -0.4547, -0.0506,\n",
       "          -0.2301,  0.3321]],\n",
       "\n",
       "        [[ 0.0844, -0.0655,  0.3647,  0.2994,  0.1824, -0.4389, -0.0339,\n",
       "          -0.2312,  0.3228]],\n",
       "\n",
       "        [[ 0.0762, -0.0635,  0.3777,  0.3224,  0.1973, -0.4571, -0.0498,\n",
       "          -0.2291,  0.3331]],\n",
       "\n",
       "        [[ 0.0772, -0.0611,  0.3836,  0.3260,  0.2045, -0.4643, -0.0547,\n",
       "          -0.2312,  0.3377]],\n",
       "\n",
       "        [[ 0.0798, -0.0598,  0.3954,  0.3451,  0.2158, -0.4799, -0.0671,\n",
       "          -0.2279,  0.3450]],\n",
       "\n",
       "        [[ 0.0813, -0.0612,  0.3810,  0.3222,  0.1993, -0.4604, -0.0512,\n",
       "          -0.2315,  0.3351]],\n",
       "\n",
       "        [[ 0.0794, -0.0651,  0.3758,  0.3193,  0.1993, -0.4565, -0.0481,\n",
       "          -0.2271,  0.3317]],\n",
       "\n",
       "        [[ 0.0791, -0.0620,  0.3820,  0.3219,  0.1990, -0.4584, -0.0507,\n",
       "          -0.2313,  0.3342]],\n",
       "\n",
       "        [[ 0.0729, -0.0640,  0.3750,  0.3178,  0.1913, -0.4519, -0.0452,\n",
       "          -0.2301,  0.3323]],\n",
       "\n",
       "        [[ 0.0740, -0.0610,  0.3848,  0.3249,  0.1960, -0.4572, -0.0517,\n",
       "          -0.2332,  0.3351]],\n",
       "\n",
       "        [[ 0.0677, -0.0610,  0.3823,  0.3267,  0.1941, -0.4593, -0.0511,\n",
       "          -0.2329,  0.3389]],\n",
       "\n",
       "        [[ 0.0826, -0.0626,  0.3751,  0.3169,  0.1960, -0.4561, -0.0473,\n",
       "          -0.2303,  0.3321]],\n",
       "\n",
       "        [[ 0.0708, -0.0627,  0.3958,  0.3434,  0.2147, -0.4728, -0.0650,\n",
       "          -0.2268,  0.3414]],\n",
       "\n",
       "        [[ 0.0694, -0.0612,  0.3885,  0.3366,  0.2041, -0.4685, -0.0587,\n",
       "          -0.2299,  0.3422]],\n",
       "\n",
       "        [[ 0.0785, -0.0636,  0.3803,  0.3250,  0.1993, -0.4599, -0.0511,\n",
       "          -0.2280,  0.3346]],\n",
       "\n",
       "        [[ 0.0774, -0.0654,  0.3780,  0.3217,  0.2006, -0.4566, -0.0497,\n",
       "          -0.2268,  0.3315]],\n",
       "\n",
       "        [[ 0.0805, -0.0670,  0.3676,  0.3057,  0.1890, -0.4434, -0.0380,\n",
       "          -0.2281,  0.3246]],\n",
       "\n",
       "        [[ 0.0794, -0.0642,  0.3836,  0.3271,  0.2035, -0.4612, -0.0534,\n",
       "          -0.2272,  0.3341]],\n",
       "\n",
       "        [[ 0.0829, -0.0612,  0.3789,  0.3192,  0.1989, -0.4591, -0.0499,\n",
       "          -0.2318,  0.3339]],\n",
       "\n",
       "        [[ 0.0845, -0.0621,  0.3758,  0.3170,  0.1946, -0.4567, -0.0468,\n",
       "          -0.2308,  0.3328]],\n",
       "\n",
       "        [[ 0.0795, -0.0654,  0.3685,  0.3062,  0.1905, -0.4469, -0.0391,\n",
       "          -0.2299,  0.3282]],\n",
       "\n",
       "        [[ 0.0805, -0.0650,  0.3712,  0.3136,  0.1946, -0.4526, -0.0441,\n",
       "          -0.2282,  0.3300]],\n",
       "\n",
       "        [[ 0.0786, -0.0650,  0.3767,  0.3204,  0.2012, -0.4584, -0.0491,\n",
       "          -0.2270,  0.3331]],\n",
       "\n",
       "        [[ 0.0722, -0.0594,  0.3937,  0.3366,  0.2042, -0.4683, -0.0597,\n",
       "          -0.2328,  0.3422]],\n",
       "\n",
       "        [[ 0.0831, -0.0624,  0.3790,  0.3189,  0.1953, -0.4560, -0.0479,\n",
       "          -0.2308,  0.3324]],\n",
       "\n",
       "        [[ 0.0736, -0.0627,  0.3783,  0.3191,  0.1931, -0.4544, -0.0468,\n",
       "          -0.2318,  0.3343]],\n",
       "\n",
       "        [[ 0.0770, -0.0599,  0.3766,  0.3133,  0.1874, -0.4512, -0.0439,\n",
       "          -0.2364,  0.3334]],\n",
       "\n",
       "        [[ 0.0791, -0.0601,  0.3941,  0.3387,  0.2137, -0.4744, -0.0638,\n",
       "          -0.2298,  0.3421]],\n",
       "\n",
       "        [[ 0.0784, -0.0651,  0.3820,  0.3236,  0.2026, -0.4580, -0.0512,\n",
       "          -0.2271,  0.3323]],\n",
       "\n",
       "        [[ 0.0757, -0.0621,  0.3713,  0.3081,  0.1850, -0.4439, -0.0407,\n",
       "          -0.2350,  0.3274]],\n",
       "\n",
       "        [[ 0.0819, -0.0631,  0.3701,  0.3103,  0.1925, -0.4520, -0.0428,\n",
       "          -0.2310,  0.3305]],\n",
       "\n",
       "        [[ 0.0767, -0.0650,  0.3769,  0.3126,  0.1939, -0.4480, -0.0437,\n",
       "          -0.2306,  0.3283]],\n",
       "\n",
       "        [[ 0.0732, -0.0607,  0.3849,  0.3279,  0.1988, -0.4604, -0.0542,\n",
       "          -0.2325,  0.3364]],\n",
       "\n",
       "        [[ 0.0898, -0.0645,  0.3592,  0.2953,  0.1798, -0.4402, -0.0311,\n",
       "          -0.2315,  0.3238]]], device='mps:0', grad_fn=<MpsLinearBackward0>)"
      ]
     },
     "execution_count": 27,
     "metadata": {},
     "output_type": "execute_result"
    }
   ],
   "source": [
    "learn.model.encoder(b[1])"
   ]
  },
  {
   "cell_type": "code",
   "execution_count": 334,
   "id": "70ca8fc6-c9d6-448d-afcc-e040bdc92983",
   "metadata": {},
   "outputs": [
    {
     "data": {
      "text/plain": [
       "tensor(False, device='mps:0')"
      ]
     },
     "execution_count": 334,
     "metadata": {},
     "output_type": "execute_result"
    }
   ],
   "source": []
  },
  {
   "cell_type": "code",
   "execution_count": null,
   "id": "3997f258-f6ee-495b-9d5e-26198b11d6da",
   "metadata": {},
   "outputs": [],
   "source": []
  }
 ],
 "metadata": {
  "kernelspec": {
   "display_name": "Python 3 (ipykernel)",
   "language": "python",
   "name": "python3"
  },
  "language_info": {
   "codemirror_mode": {
    "name": "ipython",
    "version": 3
   },
   "file_extension": ".py",
   "mimetype": "text/x-python",
   "name": "python",
   "nbconvert_exporter": "python",
   "pygments_lexer": "ipython3",
   "version": "3.9.12"
  }
 },
 "nbformat": 4,
 "nbformat_minor": 5
}
