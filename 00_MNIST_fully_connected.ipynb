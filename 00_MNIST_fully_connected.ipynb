{
 "cells": [
  {
   "cell_type": "markdown",
   "id": "0a39ae90-c295-4614-a7db-9b609513039d",
   "metadata": {},
   "source": [
    "# FC autoencoder for MNIST\n",
    "\n",
    "My first experiment with autoencoders: a small network with fully connected layers to autoencode the MNIST data"
   ]
  },
  {
   "cell_type": "markdown",
   "id": "00f9b770-e960-48c9-a547-94aa98ca6475",
   "metadata": {},
   "source": [
    "## Imports"
   ]
  },
  {
   "cell_type": "code",
   "execution_count": 1,
   "id": "bd3fdb92-b769-47dd-834c-ce52b42f4c9a",
   "metadata": {},
   "outputs": [],
   "source": [
    "from fastai.vision.all import *"
   ]
  },
  {
   "cell_type": "markdown",
   "id": "0b62ba81-9e5b-43ef-b7db-11cda016dfb5",
   "metadata": {},
   "source": [
    "## Load data"
   ]
  },
  {
   "cell_type": "code",
   "execution_count": 2,
   "id": "c4f342c5-d932-45be-9297-5a9b7fdc8d85",
   "metadata": {},
   "outputs": [],
   "source": [
    "path = untar_data(URLs.MNIST_TINY)"
   ]
  },
  {
   "cell_type": "code",
   "execution_count": 244,
   "id": "df7a85b3-bf59-466f-be71-2b9b94fe223b",
   "metadata": {},
   "outputs": [],
   "source": [
    "mean = 33.31\n",
    "std = 78.56748962402344\n",
    "\n",
    "def label_func(o):\n",
    "    img = image2tensor(Image.open(o)).view(784).float()\n",
    "    # print(img.dtype)\n",
    "    img -= mean\n",
    "    img /= std\n",
    "    return img\n",
    "\n",
    "dblock = DataBlock(blocks=(ImageBlock(cls=PILImageBW), RegressionBlock),\n",
    "                   get_items=get_image_files, \n",
    "                   splitter=GrandparentSplitter(),\n",
    "                   item_tfms=[Resize([1,784])],\n",
    "                   get_y=label_func)\n",
    "\n",
    "dls = dblock.dataloaders(path)\n"
   ]
  },
  {
   "cell_type": "code",
   "execution_count": 239,
   "id": "9e154fea-8d5a-48ca-b847-c0246f7aef67",
   "metadata": {},
   "outputs": [],
   "source": [
    "# dls.show_batch(max_n=9, figsize=(4,4))"
   ]
  },
  {
   "cell_type": "markdown",
   "id": "be1a9ae0-7a55-4a9d-ac38-b76ccb1c2457",
   "metadata": {},
   "source": [
    "## Create architecture"
   ]
  },
  {
   "cell_type": "code",
   "execution_count": 255,
   "id": "07029808-6a7b-4ead-9c53-201829f87965",
   "metadata": {},
   "outputs": [],
   "source": [
    "class AE(nn.Module):\n",
    "    def __init__(self):\n",
    "        super().__init__()\n",
    "\n",
    "        self.encoder = nn.Sequential(\n",
    "            nn.Linear(784,128),\n",
    "            nn.ReLU(),\n",
    "            nn.Linear(128, 64),\n",
    "            nn.ReLU(),\n",
    "            nn.Linear(64, 36),\n",
    "            nn.ReLU(),\n",
    "            nn.Linear(36, 18),\n",
    "            nn.ReLU(),\n",
    "            nn.Linear(18, 9),\n",
    "        )\n",
    "\n",
    "        self.decoder = nn.Sequential(\n",
    "            nn.Linear(9,18),\n",
    "            nn.ReLU(),\n",
    "            nn.Linear(18,36),\n",
    "            nn.ReLU(),\n",
    "            nn.Linear(36,64),\n",
    "            nn.ReLU(),\n",
    "            nn.Linear(64,128),\n",
    "            nn.ReLU(),\n",
    "            nn.Linear(128,784),\n",
    "            nn.ReLU(),\n",
    "        )\n",
    "    def forward(self, x):\n",
    "        x -= mean\n",
    "        x /= std\n",
    "        # print(x.shape)\n",
    "        # return 0\n",
    "        encoded = self.encoder(x)\n",
    "        decoded = self.decoder(encoded)\n",
    "        return decoded"
   ]
  },
  {
   "cell_type": "markdown",
   "id": "41fc3f9b-156b-479b-a6f5-f1d81806656e",
   "metadata": {},
   "source": [
    "# Create Learner"
   ]
  },
  {
   "cell_type": "code",
   "execution_count": 256,
   "id": "b2531032-b28f-415b-9eb2-63f5f12a6296",
   "metadata": {},
   "outputs": [],
   "source": [
    "learn = Learner(dls, AE(), loss_func=MSELossFlat())"
   ]
  },
  {
   "cell_type": "code",
   "execution_count": 257,
   "id": "d76c7618-d0dd-4f6a-b463-27001264db6f",
   "metadata": {},
   "outputs": [
    {
     "data": {
      "text/html": [
       "\n",
       "<style>\n",
       "    /* Turns off some styling */\n",
       "    progress {\n",
       "        /* gets rid of default border in Firefox and Opera. */\n",
       "        border: none;\n",
       "        /* Needs to be in here for Safari polyfill so background images work as expected. */\n",
       "        background-size: auto;\n",
       "    }\n",
       "    .progress-bar-interrupted, .progress-bar-interrupted::-webkit-progress-bar {\n",
       "        background: #F44336;\n",
       "    }\n",
       "</style>\n"
      ],
      "text/plain": [
       "<IPython.core.display.HTML object>"
      ]
     },
     "metadata": {},
     "output_type": "display_data"
    },
    {
     "data": {
      "text/html": [
       "<table border=\"1\" class=\"dataframe\">\n",
       "  <thead>\n",
       "    <tr style=\"text-align: left;\">\n",
       "      <th>epoch</th>\n",
       "      <th>train_loss</th>\n",
       "      <th>valid_loss</th>\n",
       "      <th>time</th>\n",
       "    </tr>\n",
       "  </thead>\n",
       "  <tbody>\n",
       "    <tr>\n",
       "      <td>0</td>\n",
       "      <td>0.872298</td>\n",
       "      <td>0.875146</td>\n",
       "      <td>00:00</td>\n",
       "    </tr>\n",
       "    <tr>\n",
       "      <td>1</td>\n",
       "      <td>0.846046</td>\n",
       "      <td>0.868600</td>\n",
       "      <td>00:00</td>\n",
       "    </tr>\n",
       "    <tr>\n",
       "      <td>2</td>\n",
       "      <td>0.835186</td>\n",
       "      <td>0.867039</td>\n",
       "      <td>00:00</td>\n",
       "    </tr>\n",
       "    <tr>\n",
       "      <td>3</td>\n",
       "      <td>0.829933</td>\n",
       "      <td>0.866333</td>\n",
       "      <td>00:00</td>\n",
       "    </tr>\n",
       "    <tr>\n",
       "      <td>4</td>\n",
       "      <td>0.826682</td>\n",
       "      <td>0.865630</td>\n",
       "      <td>00:00</td>\n",
       "    </tr>\n",
       "    <tr>\n",
       "      <td>5</td>\n",
       "      <td>0.824904</td>\n",
       "      <td>0.866925</td>\n",
       "      <td>00:00</td>\n",
       "    </tr>\n",
       "    <tr>\n",
       "      <td>6</td>\n",
       "      <td>0.823420</td>\n",
       "      <td>0.870335</td>\n",
       "      <td>00:00</td>\n",
       "    </tr>\n",
       "    <tr>\n",
       "      <td>7</td>\n",
       "      <td>0.822309</td>\n",
       "      <td>0.869850</td>\n",
       "      <td>00:00</td>\n",
       "    </tr>\n",
       "    <tr>\n",
       "      <td>8</td>\n",
       "      <td>0.821456</td>\n",
       "      <td>0.868011</td>\n",
       "      <td>00:00</td>\n",
       "    </tr>\n",
       "    <tr>\n",
       "      <td>9</td>\n",
       "      <td>0.821250</td>\n",
       "      <td>0.864901</td>\n",
       "      <td>00:00</td>\n",
       "    </tr>\n",
       "  </tbody>\n",
       "</table>"
      ],
      "text/plain": [
       "<IPython.core.display.HTML object>"
      ]
     },
     "metadata": {},
     "output_type": "display_data"
    }
   ],
   "source": [
    "# learn.lr_find()\n",
    "learn.fit(10, lr=0.01)"
   ]
  },
  {
   "cell_type": "code",
   "execution_count": 258,
   "id": "463802d6-6f95-4a55-bde7-93eac5992cab",
   "metadata": {},
   "outputs": [
    {
     "data": {
      "text/html": [
       "\n",
       "<style>\n",
       "    /* Turns off some styling */\n",
       "    progress {\n",
       "        /* gets rid of default border in Firefox and Opera. */\n",
       "        border: none;\n",
       "        /* Needs to be in here for Safari polyfill so background images work as expected. */\n",
       "        background-size: auto;\n",
       "    }\n",
       "    .progress-bar-interrupted, .progress-bar-interrupted::-webkit-progress-bar {\n",
       "        background: #F44336;\n",
       "    }\n",
       "</style>\n"
      ],
      "text/plain": [
       "<IPython.core.display.HTML object>"
      ]
     },
     "metadata": {},
     "output_type": "display_data"
    },
    {
     "data": {
      "text/html": [],
      "text/plain": [
       "<IPython.core.display.HTML object>"
      ]
     },
     "metadata": {},
     "output_type": "display_data"
    }
   ],
   "source": [
    "# learn.show_results()\n",
    "# test_img = PILImageBW.create((path/'train/3').ls()[0])\n",
    "# test_img = dls.one_batch()[0][0].cpu().numpy()\n",
    "# learn.predict(test_img)\n",
    "b = dls.one_batch()\n",
    "_,_,preds = learn.get_preds(dl=[b], with_decoded=True)"
   ]
  },
  {
   "cell_type": "code",
   "execution_count": 282,
   "id": "f9dfad41-c1c5-41d3-b549-8948215fca7a",
   "metadata": {},
   "outputs": [
    {
     "data": {
      "image/png": "[encoded data removed]",
      "text/plain": [
       "<Figure size 576x216 with 12 Axes>"
      ]
     },
     "metadata": {
      "needs_background": "light"
     },
     "output_type": "display_data"
    }
   ],
   "source": [
    "import torchvision.transforms as T\n",
    "transform = T.ToPILImage()\n",
    "n = 6\n",
    "fig, ax = plt.subplots(2,n, figsize= [8,3])\n",
    "for i in range(n):\n",
    "    s = torch.randint(0,64,[]).item()\n",
    "    plt.axes(ax[0,i])\n",
    "    plt.imshow(transform(b[1][s,:].view(28,28)))\n",
    "    plt.axis('off')\n",
    "    plt.axes(ax[1,i])\n",
    "    plt.imshow(transform(preds[s,:].view(28,28)))\n",
    "    plt.axis('off')"
   ]
  },
  {
   "cell_type": "code",
   "execution_count": 140,
   "id": "d51480c5-977e-457a-a294-227819b553f8",
   "metadata": {},
   "outputs": [
    {
     "data": {
      "text/plain": [
       "torch.Size([64, 1, 1, 784])"
      ]
     },
     "execution_count": 140,
     "metadata": {},
     "output_type": "execute_result"
    }
   ],
   "source": []
  },
  {
   "cell_type": "code",
   "execution_count": 123,
   "id": "3a2601f7-85ae-4f66-a49e-eb97c5c2ec82",
   "metadata": {},
   "outputs": [],
   "source": [
    "b = dls.one_batch()\n",
    "c = dls.one_batch()"
   ]
  },
  {
   "cell_type": "code",
   "execution_count": 125,
   "id": "70ca8fc6-c9d6-448d-afcc-e040bdc92983",
   "metadata": {},
   "outputs": [
    {
     "data": {
      "text/plain": [
       "torch.Size([64, 1, 1, 784])"
      ]
     },
     "execution_count": 125,
     "metadata": {},
     "output_type": "execute_result"
    }
   ],
   "source": [
    "b[1].shape"
   ]
  },
  {
   "cell_type": "code",
   "execution_count": null,
   "id": "3997f258-f6ee-495b-9d5e-26198b11d6da",
   "metadata": {},
   "outputs": [],
   "source": []
  }
 ],
 "metadata": {
  "kernelspec": {
   "display_name": "Python 3 (ipykernel)",
   "language": "python",
   "name": "python3"
  },
  "language_info": {
   "codemirror_mode": {
    "name": "ipython",
    "version": 3
   },
   "file_extension": ".py",
   "mimetype": "text/x-python",
   "name": "python",
   "nbconvert_exporter": "python",
   "pygments_lexer": "ipython3",
   "version": "3.9.12"
  }
 },
 "nbformat": 4,
 "nbformat_minor": 5
}
